{
 "cells": [
  {
   "cell_type": "code",
   "execution_count": 198,
   "id": "f874de6f",
   "metadata": {},
   "outputs": [],
   "source": [
    "import re\n",
    "import time\n",
    "import requests\n",
    "import pandas as pd\n",
    "from bs4 import BeautifulSoup"
   ]
  },
  {
   "cell_type": "code",
   "execution_count": 189,
   "id": "181f92c5",
   "metadata": {},
   "outputs": [],
   "source": [
    "def make_request_n_soup(url, tag, class_):\n",
    "    print('Making request...')\n",
    "    response = requests.get(url)\n",
    "    print('Making soup...')\n",
    "    soup = BeautifulSoup(response.text, 'lxml')\n",
    "    class_html = soup.find_all(tag, class_)\n",
    "    return class_html"
   ]
  },
  {
   "cell_type": "code",
   "execution_count": 190,
   "id": "f2658380",
   "metadata": {},
   "outputs": [],
   "source": [
    "def extract_team_info(team_url, bs4_text):\n",
    "    base_url = 'https://www.cricbuzz.com'\n",
    "    purse_n_squad = re.findall(r'\\d+(?:\\.\\d+)?', bs4_text)\n",
    "    team_info = {\n",
    "        'team_url': base_url + team_url,\n",
    "        'team_name': bs4_text.split('Purse')[0],\n",
    "        'purse_start_at': float(purse_n_squad[0]),\n",
    "        'purse_remaining': float(purse_n_squad[1]),\n",
    "        'squad_size': int(purse_n_squad[2])\n",
    "    }\n",
    "    return team_info"
   ]
  },
  {
   "cell_type": "code",
   "execution_count": 191,
   "id": "7d449596",
   "metadata": {},
   "outputs": [],
   "source": [
    "def scrape_ipl_2023_teams():\n",
    "    \n",
    "    ipl_2023_teams = make_request_n_soup(\n",
    "        'https://www.cricbuzz.com/cricket-series/ipl-2023/auction/teams',\n",
    "        'a', 'cb-col cb-col-100 cb-font-14'\n",
    "    )\n",
    "    print('Extracting team info from soup...')\n",
    "    \n",
    "    teams = []\n",
    "    for team in ipl_2023_teams:\n",
    "        team_info = extract_team_info(team['href'], team.text)\n",
    "        teams.append(team_info)\n",
    "    \n",
    "    print('Saving teams...')\n",
    "    pd.DataFrame(teams).to_csv('IPL 2023 teams.csv', index=False)\n",
    "    print('Done.')\n",
    "    return {team['team_name']: team['team_url'] for team in teams}"
   ]
  },
  {
   "cell_type": "code",
   "execution_count": 192,
   "id": "ba9867ee",
   "metadata": {},
   "outputs": [],
   "source": [
    "def scrape_squads():\n",
    "    \n",
    "    teams = scrape_ipl_2023_teams()\n",
    "    players_info = []\n",
    "    \n",
    "    for team in teams.items():\n",
    "        print(f'Scraping {team[0]}...')\n",
    "        players = make_request_n_soup(\n",
    "            team[1], 'div',\n",
    "            'cb-col cb-col-100 cb-font-14 cb-brdr-thin-btm cb-schdl'\n",
    "        )\n",
    "        \n",
    "        print('Extracting player details...')\n",
    "        for player in players:\n",
    "            player = list(filter(None, player.text.strip().replace('\\xa0', '').split('  ')))\n",
    "            player_info = {\n",
    "                'player_name': player[0],\n",
    "                'player_type': player[1].split(' • ')[0],\n",
    "                'player_auction_price': player[2].split()[-1],\n",
    "                'retained_status': 'Yes' if 'RETAINED' in player[2] else 'No',\n",
    "                'ipl_team': team[0],\n",
    "                'player_country': player[1].split(' • ')[1]\n",
    "            }\n",
    "            players_info.append(player_info)\n",
    "        print('Done.')\n",
    "        time.sleep(5)\n",
    "    \n",
    "    return players_info"
   ]
  },
  {
   "cell_type": "code",
   "execution_count": 193,
   "id": "d7a0e38e",
   "metadata": {
    "scrolled": true
   },
   "outputs": [
    {
     "name": "stdout",
     "output_type": "stream",
     "text": [
      "Making request...\n",
      "Making soup...\n",
      "Extracting team info from soup...\n",
      "Saving teams...\n",
      "Done.\n",
      "Scraping CSK...\n",
      "Making request...\n",
      "Making soup...\n",
      "Extracting player details...\n",
      "Done.\n",
      "Scraping RCB...\n",
      "Making request...\n",
      "Making soup...\n",
      "Extracting player details...\n",
      "Done.\n",
      "Scraping DC...\n",
      "Making request...\n",
      "Making soup...\n",
      "Extracting player details...\n",
      "Done.\n",
      "Scraping GT...\n",
      "Making request...\n",
      "Making soup...\n",
      "Extracting player details...\n",
      "Done.\n",
      "Scraping KKR...\n",
      "Making request...\n",
      "Making soup...\n",
      "Extracting player details...\n",
      "Done.\n",
      "Scraping LSG...\n",
      "Making request...\n",
      "Making soup...\n",
      "Extracting player details...\n",
      "Done.\n",
      "Scraping MI...\n",
      "Making request...\n",
      "Making soup...\n",
      "Extracting player details...\n",
      "Done.\n",
      "Scraping PBKS...\n",
      "Making request...\n",
      "Making soup...\n",
      "Extracting player details...\n",
      "Done.\n",
      "Scraping RR...\n",
      "Making request...\n",
      "Making soup...\n",
      "Extracting player details...\n",
      "Done.\n",
      "Scraping SRH...\n",
      "Making request...\n",
      "Making soup...\n",
      "Extracting player details...\n",
      "Done.\n"
     ]
    }
   ],
   "source": [
    "squads = scrape_squads()"
   ]
  },
  {
   "cell_type": "code",
   "execution_count": 194,
   "id": "0445993d",
   "metadata": {},
   "outputs": [],
   "source": [
    "pd.DataFrame(squads).to_csv('IPL 2023 squads.csv', index=False)"
   ]
  },
  {
   "cell_type": "code",
   "execution_count": null,
   "id": "3c906701",
   "metadata": {},
   "outputs": [],
   "source": []
  },
  {
   "cell_type": "code",
   "execution_count": null,
   "id": "1de403c9",
   "metadata": {},
   "outputs": [],
   "source": []
  }
 ],
 "metadata": {
  "kernelspec": {
   "display_name": "Python 3 (ipykernel)",
   "language": "python",
   "name": "python3"
  },
  "language_info": {
   "codemirror_mode": {
    "name": "ipython",
    "version": 3
   },
   "file_extension": ".py",
   "mimetype": "text/x-python",
   "name": "python",
   "nbconvert_exporter": "python",
   "pygments_lexer": "ipython3",
   "version": "3.8.0"
  }
 },
 "nbformat": 4,
 "nbformat_minor": 5
}
